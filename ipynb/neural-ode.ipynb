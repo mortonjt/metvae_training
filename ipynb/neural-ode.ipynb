{
 "cells": [
  {
   "cell_type": "code",
   "execution_count": 1,
   "metadata": {},
   "outputs": [],
   "source": [
    "import pandas as pd\n",
    "import numpy as np\n",
    "import seaborn as sns\n",
    "import matplotlib.pyplot as plt\n",
    "from community_simulator.usertools import (MakeConsumerDynamics, MakeResourceDynamics,  MakeParams,\n",
    "                                           MakeMatrices, MakeInitialState, a_default)\n",
    "from community_simulator import Community\n",
    "from community_simulator.visualization import PlotTraj, StackPlot\n",
    "import pickle\n",
    "from biom import Table, load_table\n",
    "from scipy.spatial.distance import pdist, squareform\n",
    "from skbio.stats.ordination import pcoa\n",
    "%matplotlib inline\n",
    "\n",
    "from torchdiffeq import odeint_adjoint as odeint\n",
    "from torch_bnn import BNN\n",
    "import torch\n",
    "import torch.nn as nn\n",
    "import torch.nn.functional as F\n",
    "import torch.optim as optim\n",
    "import tqdm"
   ]
  },
  {
   "cell_type": "code",
   "execution_count": 2,
   "metadata": {},
   "outputs": [
    {
     "name": "stdout",
     "output_type": "stream",
     "text": [
      "C.txt  neural-ode.ipynb  __pycache__\t   split.ipynb\r\n",
      "data   N.txt\t\t R.txt\t\t   torch_bnn.py\r\n",
      "D.txt  preprocess.ipynb  simple-sim.ipynb\r\n"
     ]
    }
   ],
   "source": [
    "!ls"
   ]
  },
  {
   "cell_type": "code",
   "execution_count": 3,
   "metadata": {},
   "outputs": [],
   "source": [
    "C = pd.read_table('data/C.txt', index_col=[0, 1], header=[0, 1])\n",
    "D = pd.read_table('data/D.txt', index_col=[0, 1], header=[0, 1])\n",
    "N = pd.read_table('data/N.txt', index_col=[0, 1, 2], header=[0, 1])\n",
    "R = pd.read_table('data/R.txt', index_col=[0, 1, 2], header=[0, 1])"
   ]
  },
  {
   "cell_type": "raw",
   "metadata": {},
   "source": [
    "C = C.iloc[:, 1:]\n",
    "D = D.iloc[:, 1:]\n",
    "N = N.rename(columns={'Unnamed: 6': 'time'})\n",
    "R = R.rename(columns={'Unnamed: 91': 'time'})"
   ]
  },
  {
   "cell_type": "code",
   "execution_count": 4,
   "metadata": {},
   "outputs": [],
   "source": [
    "wells = np.unique(N.index.get_level_values(0))\n",
    "time = np.unique(N.reset_index()['time'])\n",
    "\n",
    "n, r = N.shape[1], R.shape[1]\n",
    "nr = n + r\n",
    "\n",
    "idx = np.random.random(len(wells)) < 0.5\n",
    "train_wells = wells[idx]\n",
    "test_wells = wells[~idx]"
   ]
  },
  {
   "cell_type": "code",
   "execution_count": 5,
   "metadata": {},
   "outputs": [],
   "source": [
    "class ODEFunc(nn.Module):\n",
    "\n",
    "    def __init__(self, nr):\n",
    "        super(ODEFunc, self).__init__()\n",
    "\n",
    "        self.net = nn.Sequential(\n",
    "            nn.Linear(nr, 10),\n",
    "            nn.Tanh(),\n",
    "            nn.Linear(10, nr),\n",
    "        )\n",
    "\n",
    "        for m in self.net.modules():\n",
    "            if isinstance(m, nn.Linear):\n",
    "                nn.init.normal_(m.weight, mean=0, std=0.1)\n",
    "                nn.init.constant_(m.bias, val=0.1)\n",
    "        self.y0 = nn.Parameter(torch.ones(nr), requires_grad=True).cuda()\n",
    "\n",
    "    def forward(self, t, y):\n",
    "        return self.net(y)\n",
    "\n",
    "\n",
    "def loss_f(pred, data):\n",
    "    # aitchison distance for error quantification\n",
    "    loss__f = nn.MSELoss(reduction='mean')\n",
    "    pred = F.softmax(pred)\n",
    "    pred, data = torch.log(pred), torch.log(data + 1e-5)\n",
    "    pred = pred - pred.mean(axis=1).view(-1, 1)\n",
    "    data = data - data.mean(axis=1).view(-1, 1)\n",
    "    err = loss__f(pred, data)\n",
    "    #err = torch.sum((pred - data)**2, axis=1).mean()\n",
    "    return err"
   ]
  },
  {
   "cell_type": "code",
   "execution_count": 6,
   "metadata": {},
   "outputs": [],
   "source": [
    "# TODO: Build NN / BNN to draw function\n",
    "# Figure out initial value\n",
    "func = ODEFunc(nr).cuda()\n",
    "t = torch.Tensor(time).cuda()\n",
    "\n",
    "optimizer = optim.Adam(list(func.parameters()), lr=1e-2)"
   ]
  },
  {
   "cell_type": "code",
   "execution_count": 7,
   "metadata": {},
   "outputs": [
    {
     "name": "stderr",
     "output_type": "stream",
     "text": [
      "  0%|          | 0/5 [00:00<?, ?it/s]<ipython-input-5-1db888750891>:25: UserWarning: Implicit dimension choice for softmax has been deprecated. Change the call to include dim=X as an argument.\n",
      "  pred = F.softmax(pred)\n",
      "100%|██████████| 5/5 [01:22<00:00, 16.51s/it]\n"
     ]
    }
   ],
   "source": [
    "NRtraj = []\n",
    "epochs = 5\n",
    "train_loss, test_loss = [], []\n",
    "\n",
    "for _ in tqdm.tqdm(range(epochs)):\n",
    "    losses = []\n",
    "    train_wells = np.random.permutation(train_wells)\n",
    "    \n",
    "    for i, w in enumerate(train_wells):\n",
    "        # forward pass\n",
    "        optimizer.zero_grad()\n",
    "        idx = N.reset_index()['index'] == w\n",
    "        sN = N.reset_index().loc[idx].set_index(['index', 'time', 'round'])\n",
    "        sR = R.reset_index().loc[idx].set_index(['index', 'time', 'round'])\n",
    "        data = torch.Tensor(np.hstack((sN.values, sR.values))).cuda()\n",
    "        pred = odeint(func, func.y0, t)\n",
    "        loss = loss_f(pred, data)\n",
    "        \n",
    "        loss.backward()\n",
    "        optimizer.step()\n",
    "        losses.append(loss.item())\n",
    "    train_loss.append(np.mean(losses))\n",
    "    \n",
    "    losses = []\n",
    "    for w in test_wells:\n",
    "        with torch.no_grad():\n",
    "            idx = N.reset_index()['index'] == w\n",
    "            sN = N.reset_index().loc[idx].set_index(['index', 'time', 'round'])\n",
    "            sR = R.reset_index().loc[idx].set_index(['index', 'time', 'round'])\n",
    "            data = torch.Tensor(np.hstack((sN.values, sR.values))).cuda()\n",
    "            pred = odeint(func, func.y0, t)\n",
    "            loss = loss_f(pred, data)\n",
    "            losses.append(loss.item())\n",
    "    test_loss.append(np.mean(losses))"
   ]
  },
  {
   "cell_type": "code",
   "execution_count": 9,
   "metadata": {},
   "outputs": [
    {
     "data": {
      "text/plain": [
       "<matplotlib.legend.Legend at 0x7f10a03b1ca0>"
      ]
     },
     "execution_count": 9,
     "metadata": {},
     "output_type": "execute_result"
    },
    {
     "data": {
      "image/png": "[encoded data removed]",
      "text/plain": [
       "<Figure size 432x288 with 1 Axes>"
      ]
     },
     "metadata": {
      "needs_background": "light"
     },
     "output_type": "display_data"
    }
   ],
   "source": [
    "plt.plot(train_loss, label='train')\n",
    "plt.plot(test_loss, label='test')\n",
    "plt.legend()"
   ]
  },
  {
   "cell_type": "code",
   "execution_count": 25,
   "metadata": {},
   "outputs": [],
   "source": [
    "preds = []\n",
    "w = test_wells[0]\n",
    "with torch.no_grad():\n",
    "    idx = N.reset_index()['index'] == w\n",
    "    sN = N.reset_index().loc[idx].set_index(['index', 'time', 'round'])\n",
    "    sR = R.reset_index().loc[idx].set_index(['index', 'time', 'round'])\n",
    "    data = torch.Tensor(np.hstack((sN.values, sR.values))).cuda()\n",
    "    pred = odeint(func, func.y0, t)\n",
    "    pred = pred.detach().cpu().numpy()"
   ]
  },
  {
   "cell_type": "code",
   "execution_count": 35,
   "metadata": {},
   "outputs": [],
   "source": [
    "pred = pd.DataFrame(pred, columns=pd.MultiIndex.from_tuples(list(sN.columns) + list(sR.columns)))"
   ]
  },
  {
   "cell_type": "code",
   "execution_count": 41,
   "metadata": {},
   "outputs": [
    {
     "data": {
      "text/plain": [
       "F0   S0     0\n",
       "     S1     0\n",
       "F1   S2     0\n",
       "     S3     0\n",
       "GEN  S4     0\n",
       "           ..\n",
       "T2   R85    0\n",
       "     R86    0\n",
       "     R87    0\n",
       "     R88    0\n",
       "     R89    0\n",
       "Length: 95, dtype: int64"
      ]
     },
     "execution_count": 41,
     "metadata": {},
     "output_type": "execute_result"
    }
   ],
   "source": [
    "np.sum(pred < 0)"
   ]
  },
  {
   "cell_type": "code",
   "execution_count": 19,
   "metadata": {},
   "outputs": [
    {
     "data": {
      "text/plain": [
       "((50, 5), (50, 90))"
      ]
     },
     "execution_count": 19,
     "metadata": {},
     "output_type": "execute_result"
    }
   ],
   "source": [
    "sN.shape, sR.shape"
   ]
  },
  {
   "cell_type": "code",
   "execution_count": 22,
   "metadata": {},
   "outputs": [
    {
     "data": {
      "text/plain": [
       "(4600, 95)"
      ]
     },
     "execution_count": 22,
     "metadata": {},
     "output_type": "execute_result"
    }
   ],
   "source": [
    "preds.shape"
   ]
  },
  {
   "cell_type": "code",
   "execution_count": 21,
   "metadata": {},
   "outputs": [
    {
     "data": {
      "text/plain": [
       "torch.Size([95])"
      ]
     },
     "execution_count": 21,
     "metadata": {},
     "output_type": "execute_result"
    }
   ],
   "source": [
    "func.y0.shape"
   ]
  },
  {
   "cell_type": "code",
   "execution_count": 23,
   "metadata": {},
   "outputs": [
    {
     "data": {
      "text/plain": [
       "torch.Size([50])"
      ]
     },
     "execution_count": 23,
     "metadata": {},
     "output_type": "execute_result"
    }
   ],
   "source": [
    "t.shape"
   ]
  },
  {
   "cell_type": "code",
   "execution_count": 24,
   "metadata": {},
   "outputs": [
    {
     "data": {
      "text/plain": [
       "torch.Size([50, 95])"
      ]
     },
     "execution_count": 24,
     "metadata": {},
     "output_type": "execute_result"
    }
   ],
   "source": [
    "pred.shape"
   ]
  },
  {
   "cell_type": "code",
   "execution_count": null,
   "metadata": {},
   "outputs": [],
   "source": []
  },
  {
   "cell_type": "code",
   "execution_count": 30,
   "metadata": {},
   "outputs": [
    {
     "data": {
      "text/plain": [
       "MultiIndex([('T0',  'R0'),\n",
       "            ('T0',  'R1'),\n",
       "            ('T0',  'R2'),\n",
       "            ('T0',  'R3'),\n",
       "            ('T0',  'R4'),\n",
       "            ('T0',  'R5'),\n",
       "            ('T0',  'R6'),\n",
       "            ('T0',  'R7'),\n",
       "            ('T0',  'R8'),\n",
       "            ('T0',  'R9'),\n",
       "            ('T0', 'R10'),\n",
       "            ('T0', 'R11'),\n",
       "            ('T0', 'R12'),\n",
       "            ('T0', 'R13'),\n",
       "            ('T0', 'R14'),\n",
       "            ('T0', 'R15'),\n",
       "            ('T0', 'R16'),\n",
       "            ('T0', 'R17'),\n",
       "            ('T0', 'R18'),\n",
       "            ('T0', 'R19'),\n",
       "            ('T0', 'R20'),\n",
       "            ('T0', 'R21'),\n",
       "            ('T0', 'R22'),\n",
       "            ('T0', 'R23'),\n",
       "            ('T0', 'R24'),\n",
       "            ('T0', 'R25'),\n",
       "            ('T0', 'R26'),\n",
       "            ('T0', 'R27'),\n",
       "            ('T0', 'R28'),\n",
       "            ('T0', 'R29'),\n",
       "            ('T1', 'R30'),\n",
       "            ('T1', 'R31'),\n",
       "            ('T1', 'R32'),\n",
       "            ('T1', 'R33'),\n",
       "            ('T1', 'R34'),\n",
       "            ('T1', 'R35'),\n",
       "            ('T1', 'R36'),\n",
       "            ('T1', 'R37'),\n",
       "            ('T1', 'R38'),\n",
       "            ('T1', 'R39'),\n",
       "            ('T1', 'R40'),\n",
       "            ('T1', 'R41'),\n",
       "            ('T1', 'R42'),\n",
       "            ('T1', 'R43'),\n",
       "            ('T1', 'R44'),\n",
       "            ('T1', 'R45'),\n",
       "            ('T1', 'R46'),\n",
       "            ('T1', 'R47'),\n",
       "            ('T1', 'R48'),\n",
       "            ('T1', 'R49'),\n",
       "            ('T1', 'R50'),\n",
       "            ('T1', 'R51'),\n",
       "            ('T1', 'R52'),\n",
       "            ('T1', 'R53'),\n",
       "            ('T1', 'R54'),\n",
       "            ('T1', 'R55'),\n",
       "            ('T1', 'R56'),\n",
       "            ('T1', 'R57'),\n",
       "            ('T1', 'R58'),\n",
       "            ('T1', 'R59'),\n",
       "            ('T2', 'R60'),\n",
       "            ('T2', 'R61'),\n",
       "            ('T2', 'R62'),\n",
       "            ('T2', 'R63'),\n",
       "            ('T2', 'R64'),\n",
       "            ('T2', 'R65'),\n",
       "            ('T2', 'R66'),\n",
       "            ('T2', 'R67'),\n",
       "            ('T2', 'R68'),\n",
       "            ('T2', 'R69'),\n",
       "            ('T2', 'R70'),\n",
       "            ('T2', 'R71'),\n",
       "            ('T2', 'R72'),\n",
       "            ('T2', 'R73'),\n",
       "            ('T2', 'R74'),\n",
       "            ('T2', 'R75'),\n",
       "            ('T2', 'R76'),\n",
       "            ('T2', 'R77'),\n",
       "            ('T2', 'R78'),\n",
       "            ('T2', 'R79'),\n",
       "            ('T2', 'R80'),\n",
       "            ('T2', 'R81'),\n",
       "            ('T2', 'R82'),\n",
       "            ('T2', 'R83'),\n",
       "            ('T2', 'R84'),\n",
       "            ('T2', 'R85'),\n",
       "            ('T2', 'R86'),\n",
       "            ('T2', 'R87'),\n",
       "            ('T2', 'R88'),\n",
       "            ('T2', 'R89')],\n",
       "           )"
      ]
     },
     "execution_count": 30,
     "metadata": {},
     "output_type": "execute_result"
    }
   ],
   "source": []
  },
  {
   "cell_type": "code",
   "execution_count": null,
   "metadata": {},
   "outputs": [],
   "source": []
  }
 ],
 "metadata": {
  "kernelspec": {
   "display_name": "Python 3",
   "language": "python",
   "name": "python3"
  },
  "language_info": {
   "codemirror_mode": {
    "name": "ipython",
    "version": 3
   },
   "file_extension": ".py",
   "mimetype": "text/x-python",
   "name": "python",
   "nbconvert_exporter": "python",
   "pygments_lexer": "ipython3",
   "version": "3.8.5"
  }
 },
 "nbformat": 4,
 "nbformat_minor": 4
}
