{
 "cells": [
  {
   "cell_type": "code",
   "execution_count": 13,
   "metadata": {},
   "outputs": [],
   "source": [
    "import pandas as pd\n",
    "import numpy as np\n",
    "import seaborn as sns\n",
    "import matplotlib.pyplot as plt\n",
    "from community_simulator.usertools import (MakeConsumerDynamics, MakeResourceDynamics,  MakeParams,\n",
    "                                           MakeMatrices, MakeInitialState, a_default)\n",
    "from community_simulator import Community\n",
    "from community_simulator.visualization import PlotTraj, StackPlot\n",
    "import pickle\n",
    "from biom import Table, load_table\n",
    "from scipy.spatial.distance import pdist, squareform\n",
    "from skbio.stats.ordination import pcoa\n",
    "%matplotlib inline\n",
    "\n",
    "from torchdiffeq import odeint_adjoint as odeint\n",
    "from torch_bnn import BNN"
   ]
  },
  {
   "cell_type": "code",
   "execution_count": 2,
   "metadata": {},
   "outputs": [
    {
     "name": "stdout",
     "output_type": "stream",
     "text": [
      "C.txt  neural-ode.ipynb  preprocess.ipynb  simple-sim.ipynb  torch_bnn.py\r\n",
      "D.txt  N.txt\t\t R.txt\t\t   split.ipynb\r\n"
     ]
    }
   ],
   "source": [
    "!ls"
   ]
  },
  {
   "cell_type": "code",
   "execution_count": 11,
   "metadata": {},
   "outputs": [],
   "source": [
    "C = pd.read_table('C.txt', index_col=1, header=1)\n",
    "D = pd.read_table('D.txt', index_col=1, header=1)\n",
    "N = pd.read_table('N.txt', index_col=0, header=1)\n",
    "R = pd.read_table('R.txt', index_col=0, header=1)"
   ]
  },
  {
   "cell_type": "code",
   "execution_count": 24,
   "metadata": {},
   "outputs": [],
   "source": [
    "C = C.iloc[:, 1:]\n",
    "D = D.iloc[:, 1:]\n",
    "N = N.rename(columns={'Unnamed: 6': 'time'})\n",
    "R = R.rename(columns={'Unnamed: 91': 'time'})"
   ]
  },
  {
   "cell_type": "code",
   "execution_count": 23,
   "metadata": {},
   "outputs": [],
   "source": []
  },
  {
   "cell_type": "code",
   "execution_count": null,
   "metadata": {},
   "outputs": [],
   "source": [
    "# TODO: Build NN / BNN to draw function\n",
    "# Figure out initial value\n",
    "odeint(func, y0, t)"
   ]
  }
 ],
 "metadata": {
  "kernelspec": {
   "display_name": "Python 3",
   "language": "python",
   "name": "python3"
  },
  "language_info": {
   "codemirror_mode": {
    "name": "ipython",
    "version": 3
   },
   "file_extension": ".py",
   "mimetype": "text/x-python",
   "name": "python",
   "nbconvert_exporter": "python",
   "pygments_lexer": "ipython3",
   "version": "3.8.5"
  }
 },
 "nbformat": 4,
 "nbformat_minor": 4
}
