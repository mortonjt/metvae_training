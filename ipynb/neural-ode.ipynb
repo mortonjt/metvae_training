{
 "cells": [
  {
   "cell_type": "code",
   "execution_count": 1,
   "metadata": {},
   "outputs": [],
   "source": [
    "import pandas as pd\n",
    "import numpy as np\n",
    "import seaborn as sns\n",
    "import matplotlib.pyplot as plt\n",
    "from community_simulator.usertools import (MakeConsumerDynamics, MakeResourceDynamics,  MakeParams,\n",
    "                                           MakeMatrices, MakeInitialState, a_default)\n",
    "from community_simulator import Community\n",
    "from community_simulator.visualization import PlotTraj, StackPlot\n",
    "import pickle\n",
    "from biom import Table, load_table\n",
    "from scipy.spatial.distance import pdist, squareform\n",
    "from skbio.stats.ordination import pcoa\n",
    "%matplotlib inline\n",
    "\n",
    "from torchdiffeq import odeint_adjoint as odeint\n",
    "from torch_bnn import BNN\n",
    "import torch\n",
    "import torch.nn as nn\n",
    "import torch.nn.functional as F\n",
    "import torch.optim as optim\n",
    "import tqdm"
   ]
  },
  {
   "cell_type": "code",
   "execution_count": 2,
   "metadata": {},
   "outputs": [
    {
     "name": "stdout",
     "output_type": "stream",
     "text": [
      "C.txt  neural-ode.ipynb  __pycache__\t   split.ipynb\r\n",
      "data   N.txt\t\t R.txt\t\t   torch_bnn.py\r\n",
      "D.txt  preprocess.ipynb  simple-sim.ipynb\r\n"
     ]
    }
   ],
   "source": [
    "!ls"
   ]
  },
  {
   "cell_type": "code",
   "execution_count": 3,
   "metadata": {},
   "outputs": [],
   "source": [
    "C = pd.read_table('data/C.txt', index_col=[0, 1], header=[0, 1])\n",
    "D = pd.read_table('data/D.txt', index_col=[0, 1], header=[0, 1])\n",
    "N = pd.read_table('data/N.txt', index_col=[0, 1, 2], header=[0, 1])\n",
    "R = pd.read_table('data/R.txt', index_col=[0, 1, 2], header=[0, 1])"
   ]
  },
  {
   "cell_type": "raw",
   "metadata": {},
   "source": [
    "C = C.iloc[:, 1:]\n",
    "D = D.iloc[:, 1:]\n",
    "N = N.rename(columns={'Unnamed: 6': 'time'})\n",
    "R = R.rename(columns={'Unnamed: 91': 'time'})"
   ]
  },
  {
   "cell_type": "code",
   "execution_count": 4,
   "metadata": {},
   "outputs": [],
   "source": [
    "wells = np.unique(N.index.get_level_values(0))\n",
    "time = np.unique(N.reset_index()['time'])\n",
    "\n",
    "n, r = N.shape[1], R.shape[1]\n",
    "nr = n + r\n",
    "\n",
    "idx = np.random.random(len(wells)) < 0.5\n",
    "train_wells = wells[idx]\n",
    "test_wells = wells[~idx]"
   ]
  },
  {
   "cell_type": "code",
   "execution_count": 5,
   "metadata": {},
   "outputs": [],
   "source": [
    "class ODEFunc(nn.Module):\n",
    "\n",
    "    def __init__(self, nr):\n",
    "        super(ODEFunc, self).__init__()\n",
    "\n",
    "        self.net = nn.Sequential(\n",
    "            nn.Linear(nr, 10),\n",
    "            nn.Tanh(),\n",
    "            nn.Linear(10, nr),\n",
    "        )\n",
    "\n",
    "        for m in self.net.modules():\n",
    "            if isinstance(m, nn.Linear):\n",
    "                nn.init.normal_(m.weight, mean=0, std=0.1)\n",
    "                nn.init.constant_(m.bias, val=0.1)\n",
    "        self.y0 = nn.Parameter(torch.ones(nr), requires_grad=True).cuda()\n",
    "\n",
    "    def forward(self, t, y):\n",
    "        return self.net(y**3)\n",
    "\n",
    "\n",
    "def loss_f(pred, data):\n",
    "    # aitchison distance for error quantification\n",
    "    loss__f = nn.MSELoss(reduction='mean')\n",
    "    pred = F.softmax(pred)\n",
    "    pred, data = torch.log(pred), torch.log(data + 1e-5)\n",
    "    pred = pred - pred.mean(axis=1).view(-1, 1)\n",
    "    data = data - data.mean(axis=1).view(-1, 1)\n",
    "    err = loss__f(pred, data)\n",
    "    #err = torch.sum((pred - data)**2, axis=1).mean()\n",
    "    return err"
   ]
  },
  {
   "cell_type": "code",
   "execution_count": 6,
   "metadata": {},
   "outputs": [],
   "source": [
    "# TODO: Build NN / BNN to draw function\n",
    "# Figure out initial value\n",
    "func = ODEFunc(nr).cuda()\n",
    "t = torch.Tensor(time).cuda()\n",
    "\n",
    "optimizer = optim.Adam(list(func.parameters()), lr=1e-2)"
   ]
  },
  {
   "cell_type": "code",
   "execution_count": 7,
   "metadata": {},
   "outputs": [
    {
     "name": "stderr",
     "output_type": "stream",
     "text": [
      "  0%|          | 0/10 [00:00<?, ?it/s]<ipython-input-5-54c8fc79eb65>:25: UserWarning: Implicit dimension choice for softmax has been deprecated. Change the call to include dim=X as an argument.\n",
      "  pred = F.softmax(pred)\n",
      "100%|██████████| 10/10 [11:42<00:00, 70.28s/it]\n"
     ]
    }
   ],
   "source": [
    "NRtraj = []\n",
    "epochs = 10\n",
    "train_loss, test_loss = [], []\n",
    "\n",
    "for _ in tqdm.tqdm(range(epochs)):\n",
    "    losses = []\n",
    "    train_wells = np.random.permutation(train_wells)\n",
    "    \n",
    "    for i, w in enumerate(train_wells):\n",
    "        # forward pass\n",
    "        optimizer.zero_grad()\n",
    "        idx = N.reset_index()['index'] == w\n",
    "        sN = N.reset_index().loc[idx].set_index(['index', 'time', 'round'])\n",
    "        sR = R.reset_index().loc[idx].set_index(['index', 'time', 'round'])\n",
    "        data = torch.Tensor(np.hstack((sN.values, sR.values))).cuda()\n",
    "        pred = odeint(func, func.y0, t)\n",
    "        loss = loss_f(pred, data)\n",
    "        \n",
    "        loss.backward()\n",
    "        optimizer.step()\n",
    "        losses.append(loss.item())\n",
    "    train_loss.append(np.mean(losses))\n",
    "    \n",
    "    losses = []\n",
    "    for w in test_wells:\n",
    "        with torch.no_grad():\n",
    "            idx = N.reset_index()['index'] == w\n",
    "            sN = N.reset_index().loc[idx].set_index(['index', 'time', 'round'])\n",
    "            sR = R.reset_index().loc[idx].set_index(['index', 'time', 'round'])\n",
    "            data = torch.Tensor(np.hstack((sN.values, sR.values))).cuda()\n",
    "            pred = odeint(func, func.y0, t)\n",
    "            loss = loss_f(pred, data)\n",
    "            losses.append(loss.item())\n",
    "    test_loss.append(np.mean(losses))"
   ]
  },
  {
   "cell_type": "code",
   "execution_count": 8,
   "metadata": {},
   "outputs": [
    {
     "data": {
      "text/plain": [
       "Text(0, 0.5, 'Mean Squared Error')"
      ]
     },
     "execution_count": 8,
     "metadata": {},
     "output_type": "execute_result"
    },
    {
     "data": {
      "image/png": "[encoded data removed]",
      "text/plain": [
       "<Figure size 432x288 with 1 Axes>"
      ]
     },
     "metadata": {
      "needs_background": "light"
     },
     "output_type": "display_data"
    }
   ],
   "source": [
    "plt.plot(train_loss, label='train')\n",
    "plt.plot(test_loss, label='test')\n",
    "plt.legend()\n",
    "plt.xlabel('Epochs')\n",
    "plt.ylabel('Mean Squared Error')"
   ]
  },
  {
   "cell_type": "code",
   "execution_count": 9,
   "metadata": {},
   "outputs": [],
   "source": [
    "preds = []\n",
    "w = test_wells[0]\n",
    "with torch.no_grad():\n",
    "    idx = N.reset_index()['index'] == w\n",
    "    sN = N.reset_index().loc[idx].set_index(['index', 'time', 'round'])\n",
    "    sR = R.reset_index().loc[idx].set_index(['index', 'time', 'round'])\n",
    "    data = torch.Tensor(np.hstack((sN.values, sR.values))).cuda()\n",
    "    pred = odeint(func, func.y0, t)\n",
    "    pred = pred.detach().cpu().numpy()"
   ]
  },
  {
   "cell_type": "code",
   "execution_count": 10,
   "metadata": {},
   "outputs": [],
   "source": [
    "pred = pd.DataFrame(pred, columns=pd.MultiIndex.from_tuples(list(sN.columns) + list(sR.columns)))"
   ]
  },
  {
   "cell_type": "code",
   "execution_count": 11,
   "metadata": {},
   "outputs": [],
   "source": [
    "from skbio.stats.composition import closure, clr\n",
    "sNv, sRv = sN.values, sR.values\n",
    "sNv[sNv<=0] = 1e-5\n",
    "sRv[sRv<=0] = 1e-5\n",
    "\n",
    "true = pd.DataFrame(np.hstack((clr(sNv), clr(sRv))), \n",
    "                    columns=pd.MultiIndex.from_tuples(list(sN.columns) + list(sR.columns)))"
   ]
  },
  {
   "cell_type": "code",
   "execution_count": 12,
   "metadata": {},
   "outputs": [
    {
     "data": {
      "text/plain": [
       "<matplotlib.axes._subplots.AxesSubplot at 0x7f07f6232df0>"
      ]
     },
     "execution_count": 12,
     "metadata": {},
     "output_type": "execute_result"
    },
    {
     "data": {
      "image/png": "[encoded data removed]",
      "text/plain": [
       "<Figure size 432x288 with 1 Axes>"
      ]
     },
     "metadata": {
      "needs_background": "light"
     },
     "output_type": "display_data"
    }
   ],
   "source": [
    "sns.distplot((true - pred).values.ravel())"
   ]
  },
  {
   "cell_type": "code",
   "execution_count": 13,
   "metadata": {},
   "outputs": [
    {
     "data": {
      "text/plain": [
       "Text(0.5, 0, 'Error')"
      ]
     },
     "execution_count": 13,
     "metadata": {},
     "output_type": "execute_result"
    },
    {
     "data": {
      "image/png": "[encoded data removed]",
      "text/plain": [
       "<Figure size 432x288 with 1 Axes>"
      ]
     },
     "metadata": {
      "needs_background": "light"
     },
     "output_type": "display_data"
    }
   ],
   "source": [
    "sns.distplot((true - pred).values.ravel())\n",
    "plt.xlim([-10, 10])\n",
    "plt.xlabel('Error')"
   ]
  },
  {
   "cell_type": "code",
   "execution_count": 14,
   "metadata": {},
   "outputs": [
    {
     "data": {
      "text/plain": [
       "<matplotlib.collections.PathCollection at 0x7f07f00337c0>"
      ]
     },
     "execution_count": 14,
     "metadata": {},
     "output_type": "execute_result"
    },
    {
     "data": {
      "image/png": "[encoded data removed]",
      "text/plain": [
       "<Figure size 432x288 with 1 Axes>"
      ]
     },
     "metadata": {
      "needs_background": "light"
     },
     "output_type": "display_data"
    }
   ],
   "source": [
    "plt.scatter(true.values.ravel(), pred.values.ravel(), s=1)"
   ]
  },
  {
   "cell_type": "code",
   "execution_count": 20,
   "metadata": {},
   "outputs": [
    {
     "data": {
      "text/plain": [
       "Text(0, 0.5, 'Prediction')"
      ]
     },
     "execution_count": 20,
     "metadata": {},
     "output_type": "execute_result"
    },
    {
     "data": {
      "image/png": "[encoded data removed]",
      "text/plain": [
       "<Figure size 432x288 with 1 Axes>"
      ]
     },
     "metadata": {
      "needs_background": "light"
     },
     "output_type": "display_data"
    }
   ],
   "source": [
    "plt.scatter(true.values.ravel(), pred.values.ravel(), s=1)\n",
    "plt.xlim([-10, 10])\n",
    "plt.xlabel('Ground Truth')\n",
    "plt.ylabel('Prediction')"
   ]
  },
  {
   "cell_type": "code",
   "execution_count": 16,
   "metadata": {},
   "outputs": [
    {
     "data": {
      "text/plain": [
       "torch.Size([95])"
      ]
     },
     "execution_count": 16,
     "metadata": {},
     "output_type": "execute_result"
    }
   ],
   "source": [
    "func.y0.shape"
   ]
  },
  {
   "cell_type": "code",
   "execution_count": 17,
   "metadata": {},
   "outputs": [
    {
     "data": {
      "text/plain": [
       "torch.Size([20])"
      ]
     },
     "execution_count": 17,
     "metadata": {},
     "output_type": "execute_result"
    }
   ],
   "source": [
    "t.shape"
   ]
  },
  {
   "cell_type": "code",
   "execution_count": 18,
   "metadata": {},
   "outputs": [
    {
     "data": {
      "text/plain": [
       "(20, 95)"
      ]
     },
     "execution_count": 18,
     "metadata": {},
     "output_type": "execute_result"
    }
   ],
   "source": [
    "pred.shape"
   ]
  },
  {
   "cell_type": "code",
   "execution_count": 19,
   "metadata": {},
   "outputs": [
    {
     "data": {
      "text/plain": [
       "[Parameter containing:\n",
       " tensor([[ 1.0673e-01,  2.9435e-02,  8.2776e-02,  8.2336e-02,  7.4115e-02,\n",
       "          -3.2176e-02,  7.9794e-02,  5.0173e-02,  5.6389e-03, -1.3599e-01,\n",
       "           7.7724e-03,  7.8509e-02, -9.4980e-02,  4.4039e-02,  1.0900e-01,\n",
       "          -9.9193e-04,  7.9436e-02,  1.0186e-01, -3.5211e-02,  8.1607e-02,\n",
       "           1.9307e-02,  8.2337e-02,  2.1847e-01, -1.7280e-01,  1.1404e-01,\n",
       "           1.2628e-01,  9.5365e-02, -2.7489e-02,  6.2297e-02,  2.0116e-01,\n",
       "           3.1384e-01,  2.2677e-01,  1.4349e-01,  9.4817e-03, -1.3444e-01,\n",
       "          -9.7994e-02,  2.0234e-01,  1.1081e-01,  2.3421e-01,  1.2818e-01,\n",
       "          -2.6434e-02,  9.3660e-02,  2.9418e-01,  1.8609e-02,  3.6757e-02,\n",
       "           1.8098e-01,  1.6369e-01,  4.5575e-02, -1.5089e-02,  6.8332e-02,\n",
       "           2.0187e-01,  1.7637e-01, -4.3006e-02, -9.3232e-03,  4.2410e-02,\n",
       "           2.2337e-01, -8.0283e-02,  2.7748e-02,  7.6781e-02,  1.6263e-01,\n",
       "           8.3603e-02,  5.9993e-02,  1.5445e-01,  8.8763e-02,  1.0104e-01,\n",
       "           1.7774e-01,  3.7785e-02,  4.7375e-02,  8.5310e-02,  1.1623e-01,\n",
       "           6.0404e-02,  1.9918e-02,  1.5221e-01,  2.5251e-01,  2.8416e-02,\n",
       "           1.8664e-01,  7.0964e-02,  1.2863e-02,  1.8046e-01, -2.0152e-02,\n",
       "           1.4448e-01,  7.4970e-02,  2.1070e-01,  2.4842e-01,  2.0453e-01,\n",
       "          -1.1667e-01,  2.0365e-01,  1.1082e-01,  4.7374e-02,  9.8354e-03,\n",
       "           3.4059e-02,  2.0344e-01,  1.2705e-01,  1.3985e-01, -7.5194e-02],\n",
       "         [-1.2249e-01, -2.0823e-01, -7.3989e-02, -5.5705e-02,  1.3156e-02,\n",
       "           4.0449e-02, -1.9666e-02, -1.1514e-02,  1.9769e-02,  5.0608e-02,\n",
       "          -1.2825e-01, -1.4989e-01, -4.1980e-03, -7.9050e-02,  7.9516e-02,\n",
       "          -1.0284e-02,  3.5071e-02, -9.6402e-02, -1.6363e-03,  3.1639e-02,\n",
       "          -2.4612e-01, -6.1651e-03, -2.5984e-02, -1.7561e-01, -1.5962e-01,\n",
       "          -1.9146e-01, -1.5728e-01, -2.1229e-01, -9.9663e-02, -2.4365e-01,\n",
       "          -4.4776e-02, -3.1774e-02, -1.5541e-01, -9.5985e-02, -9.7934e-02,\n",
       "          -2.5096e-01,  2.9689e-03,  1.0854e-01,  5.0333e-02,  1.3780e-01,\n",
       "           1.7593e-01, -6.0329e-02, -6.1297e-02, -1.6364e-01,  1.5961e-01,\n",
       "           2.0374e-02,  7.6544e-02, -6.5959e-02, -1.7074e-02, -4.0277e-02,\n",
       "          -2.6719e-01,  7.0586e-02, -1.4837e-02,  4.0353e-02, -1.1601e-01,\n",
       "           3.3418e-02,  6.9158e-02, -2.9926e-01, -6.5137e-02,  4.7004e-02,\n",
       "          -5.1728e-02, -3.6126e-02,  8.9649e-02, -7.2063e-02, -6.3213e-02,\n",
       "          -2.2953e-02, -2.2800e-01,  2.0432e-01, -1.9294e-03, -1.0940e-01,\n",
       "          -3.7116e-02, -3.3066e-02, -3.4397e-02, -1.4949e-01, -6.5560e-02,\n",
       "          -1.7683e-01, -1.3136e-01,  3.9886e-02, -4.9905e-02, -8.2496e-02,\n",
       "          -1.6868e-01, -4.5513e-02,  2.1360e-02, -8.1941e-02, -1.0907e-01,\n",
       "          -1.5465e-01,  8.5060e-02, -1.3306e-01,  1.3221e-02, -1.6860e-01,\n",
       "          -1.0168e-01, -7.2494e-02, -1.9542e-01,  4.7693e-02, -7.6210e-02],\n",
       "         [ 2.7061e-02, -2.4120e-02, -4.2195e-02,  1.3370e-01, -1.2571e-01,\n",
       "          -2.2036e-02,  6.2861e-02, -4.0503e-02,  1.2791e-01,  2.4462e-01,\n",
       "           7.7507e-02, -1.6780e-02,  1.1510e-01,  1.3641e-01,  4.1993e-02,\n",
       "           1.0725e-01,  1.9108e-01,  1.1524e-01, -1.2989e-01,  7.9657e-02,\n",
       "           6.1492e-02,  8.6125e-02,  1.6104e-01,  1.0237e-01,  3.7439e-02,\n",
       "           8.0157e-02,  9.6284e-02,  3.3478e-01,  2.9437e-01, -5.8420e-02,\n",
       "           6.9538e-02,  1.5117e-01, -1.7190e-01,  2.6025e-01,  2.6815e-01,\n",
       "           1.2313e-01,  2.4242e-01,  2.0529e-01,  5.4985e-02,  8.0960e-02,\n",
       "           5.1425e-02,  1.0273e-01, -1.4781e-01,  7.3199e-02,  1.1219e-01,\n",
       "           2.5530e-01,  1.8342e-01,  1.3573e-01,  4.4265e-02,  1.4614e-01,\n",
       "           1.7950e-01,  3.1751e-02,  3.4136e-02,  7.5019e-02, -4.3639e-02,\n",
       "           1.7266e-04,  3.1225e-02,  2.8223e-01,  8.1375e-02,  1.9609e-01,\n",
       "          -1.6546e-01,  4.9118e-01, -8.9494e-02,  1.1056e-01, -1.2619e-02,\n",
       "          -2.9547e-02,  1.0841e-01,  1.0587e-01,  2.1627e-01,  2.9168e-01,\n",
       "           1.7723e-01,  3.0180e-01,  8.2783e-02,  1.2439e-01, -4.4542e-02,\n",
       "           7.7859e-02,  1.2672e-01,  3.5773e-01, -1.5418e-01, -3.1231e-02,\n",
       "           9.7248e-02,  1.5153e-01,  7.9195e-02,  9.8451e-02,  3.4441e-02,\n",
       "           1.0958e-01, -9.5940e-02,  2.2474e-01, -1.9772e-01,  4.3021e-02,\n",
       "           2.0235e-01, -5.4871e-02,  1.9328e-01,  3.2510e-02,  8.3428e-02],\n",
       "         [ 2.1304e-01,  8.3697e-02,  1.5925e-01,  8.3021e-02,  5.9426e-02,\n",
       "          -8.5503e-02,  1.5315e-03,  2.8442e-01,  2.1512e-01,  2.2886e-01,\n",
       "           2.0728e-01, -3.3600e-03,  8.5436e-03,  2.8647e-02,  1.6679e-01,\n",
       "           1.4727e-01,  1.6325e-01,  7.2421e-03, -1.8245e-02, -5.0114e-02,\n",
       "          -1.0646e-01,  2.0891e-01,  6.3359e-02,  1.1160e-01,  2.2433e-02,\n",
       "           1.6028e-01,  8.4966e-02, -9.7992e-02, -1.0419e-01,  4.4697e-02,\n",
       "           6.6302e-02,  3.4649e-03,  1.4134e-01,  1.3143e-01,  6.6574e-02,\n",
       "           4.5581e-02,  2.5215e-01,  1.4646e-02,  1.4206e-01,  2.0133e-01,\n",
       "          -1.3137e-01,  2.0702e-02,  1.8408e-01,  1.5449e-02, -1.6176e-01,\n",
       "          -9.1848e-02, -1.5743e-02,  1.8455e-01,  1.5763e-01, -7.4159e-02,\n",
       "           1.2493e-01,  8.1740e-02,  5.6524e-02, -6.6999e-02,  3.3576e-02,\n",
       "          -7.9206e-02, -2.7172e-02,  1.6858e-01,  2.1676e-01, -1.6229e-01,\n",
       "           9.4020e-02,  2.7056e-01,  1.8004e-01, -1.5318e-02,  2.1933e-01,\n",
       "           6.1760e-02,  4.5233e-03, -3.2855e-02,  1.0747e-01,  1.3036e-01,\n",
       "           1.0361e-01,  6.6181e-02,  1.3283e-01,  1.1856e-01, -6.6858e-03,\n",
       "          -2.1288e-02, -1.1316e-02, -1.5976e-02,  7.5503e-02,  7.7685e-02,\n",
       "           2.5151e-01,  1.1486e-01,  8.5346e-02,  8.9032e-02,  1.4947e-01,\n",
       "           1.6686e-01,  7.6717e-02,  3.5322e-02,  1.2675e-02,  9.1441e-02,\n",
       "           1.0854e-01,  2.4347e-02,  2.9203e-01,  3.1795e-02,  1.6233e-01],\n",
       "         [ 2.0764e-01,  4.8241e-02, -1.8586e-01,  1.1403e-01,  1.0865e-02,\n",
       "           1.2000e-01, -2.8017e-02, -2.7127e-02,  1.3732e-01,  8.2917e-02,\n",
       "          -8.9273e-02, -3.9071e-02,  3.1431e-01,  7.9043e-02, -5.0710e-02,\n",
       "           4.3123e-02, -1.1169e-01,  8.8012e-02,  1.0772e-01,  1.0829e-01,\n",
       "           7.5367e-04, -1.8103e-01,  7.5435e-02,  1.3596e-01,  5.7360e-02,\n",
       "           2.2714e-01,  1.3863e-01,  1.1414e-01,  5.4544e-02, -7.9903e-02,\n",
       "           1.8137e-02,  6.7404e-02,  2.6575e-01,  4.2119e-02,  4.9977e-02,\n",
       "           1.1119e-02,  1.0738e-01,  1.6027e-02,  1.3031e-01, -1.3907e-01,\n",
       "           1.3942e-01,  9.5419e-03,  1.5710e-01,  6.1356e-02, -1.4866e-02,\n",
       "           3.6239e-01,  8.1767e-02,  9.0064e-02, -1.3994e-01,  1.7925e-02,\n",
       "           1.9042e-01,  1.0534e-01, -3.1095e-02, -5.6827e-02, -4.3982e-02,\n",
       "          -1.0266e-01, -5.3287e-02,  2.1768e-01, -2.7312e-03,  1.0712e-02,\n",
       "          -1.5145e-01,  1.7252e-01, -1.6757e-02,  2.9021e-01,  1.6208e-01,\n",
       "           1.2298e-01, -1.8154e-02,  1.0154e-01,  8.9485e-02,  2.2508e-01,\n",
       "           9.2889e-02, -4.9135e-02,  8.7775e-02,  1.8141e-03,  3.4705e-02,\n",
       "           2.0863e-01, -8.3751e-02, -7.3011e-05,  4.2536e-02,  7.7820e-02,\n",
       "           2.1441e-02,  1.0099e-01, -1.1146e-01, -5.5489e-02,  7.9748e-02,\n",
       "           9.5047e-02,  7.1300e-03,  3.9644e-01,  1.7938e-01,  4.8035e-02,\n",
       "           1.3861e-01,  6.7564e-02,  1.3499e-01,  1.1682e-01,  1.8066e-01],\n",
       "         [ 1.4604e-01,  2.2536e-02,  2.1649e-02,  9.6041e-02,  3.1926e-01,\n",
       "           5.2984e-02,  2.4663e-01,  3.9550e-02,  2.3443e-01, -1.8863e-02,\n",
       "           3.6968e-02, -7.8055e-02,  1.9598e-02,  6.7813e-02,  8.2880e-02,\n",
       "          -3.4395e-02, -1.5277e-02, -9.8594e-02,  1.0057e-01, -1.5020e-01,\n",
       "           3.0004e-03,  4.9840e-02, -2.9574e-02,  1.8265e-01,  1.6915e-01,\n",
       "           1.3127e-01,  5.9137e-02, -8.1691e-02, -1.2938e-01,  3.6551e-02,\n",
       "          -3.5978e-02,  1.3913e-01,  2.0107e-01, -1.0730e-01,  6.3000e-02,\n",
       "           3.7790e-02,  1.0620e-01, -1.2684e-01,  1.2924e-01, -3.9588e-02,\n",
       "           3.7157e-02, -4.2371e-02,  1.5620e-01, -1.3463e-01, -5.0575e-02,\n",
       "           1.4727e-01,  1.7226e-02, -1.4138e-01,  1.9980e-02,  9.6784e-02,\n",
       "           6.1000e-02,  2.5032e-01,  8.4516e-02,  1.0988e-01, -1.5698e-01,\n",
       "           9.8456e-02, -4.0451e-02,  1.5272e-01,  9.8042e-02,  2.4613e-01,\n",
       "           2.6295e-01,  1.0309e-02, -1.7917e-02,  5.2164e-02,  2.3938e-01,\n",
       "           1.2120e-01,  4.5289e-02,  1.9226e-01,  5.4260e-02, -1.0229e-01,\n",
       "          -4.4197e-02, -6.1217e-02,  1.6516e-01,  8.8805e-02, -3.4207e-03,\n",
       "           1.3142e-01,  1.1523e-01,  5.5216e-02,  9.7115e-02,  1.5422e-01,\n",
       "           5.2749e-02, -2.4514e-02,  6.8911e-02,  3.9706e-02,  8.2232e-02,\n",
       "          -1.4568e-01, -2.5154e-02,  5.6683e-04,  1.2766e-01,  8.0820e-02,\n",
       "          -2.5038e-03, -6.4831e-02,  1.3280e-01, -3.7708e-02,  5.2187e-02],\n",
       "         [-7.1045e-02, -8.9946e-02, -4.1231e-02, -3.3698e-02, -2.5800e-01,\n",
       "           2.1034e-02, -7.0024e-02, -1.8971e-01, -3.1286e-01,  2.0789e-02,\n",
       "           4.5323e-02, -1.5494e-01, -1.9067e-01,  5.2726e-02,  1.1699e-01,\n",
       "          -6.4299e-02, -8.5415e-02, -2.5940e-02, -1.9159e-02, -1.7108e-01,\n",
       "          -8.9511e-02, -7.7711e-02, -1.7799e-01, -1.2184e-02,  1.7427e-01,\n",
       "          -1.0578e-01,  8.9482e-02,  1.8513e-01, -3.1662e-01,  8.6250e-02,\n",
       "          -3.2690e-02, -5.3766e-02, -1.7635e-01, -1.8379e-01, -5.4963e-02,\n",
       "          -1.4412e-01, -9.3523e-02, -1.5700e-01, -7.6137e-02, -2.1853e-01,\n",
       "          -2.5559e-03, -1.6151e-01, -9.7620e-03,  1.6901e-01,  1.9715e-01,\n",
       "          -1.2135e-01, -2.5317e-01,  1.2862e-01, -2.6307e-01, -1.7644e-01,\n",
       "          -5.7887e-02,  2.2746e-01, -1.8437e-01, -8.5888e-02, -6.7882e-02,\n",
       "          -1.3856e-01, -1.0206e-01, -1.3476e-01, -1.0631e-01, -2.0689e-01,\n",
       "           5.4420e-02, -1.1246e-01,  1.1564e-01, -8.8369e-02, -3.8865e-02,\n",
       "           2.1077e-01, -1.0635e-02, -2.4190e-02, -1.6868e-01,  5.5839e-02,\n",
       "           1.6238e-01, -9.4206e-02, -1.3051e-01,  6.3643e-02, -8.6744e-02,\n",
       "          -4.9120e-02, -1.5237e-01,  6.7973e-02, -5.3904e-02, -1.9735e-01,\n",
       "          -1.4116e-01, -3.8897e-01, -1.5015e-01, -5.7514e-02, -1.3199e-01,\n",
       "          -1.9464e-01,  4.3810e-02, -1.6975e-01, -9.9811e-03, -2.9344e-01,\n",
       "           4.5859e-02, -9.5758e-02,  1.3951e-01, -1.7097e-01,  3.9393e-02],\n",
       "         [ 1.5963e-02, -1.3141e-01,  2.3459e-03, -5.0139e-02,  8.7465e-02,\n",
       "           1.1794e-01,  1.8092e-01,  2.1892e-01,  2.6135e-02, -4.7442e-02,\n",
       "          -6.2964e-02,  4.6598e-02,  2.1703e-01,  1.2501e-01, -1.9255e-01,\n",
       "           1.0961e-01, -5.0708e-02,  2.7410e-01,  2.2685e-01,  9.0157e-02,\n",
       "           1.3966e-01,  3.1623e-02,  1.0432e-01,  7.0332e-02,  8.0644e-02,\n",
       "           1.6797e-01, -1.2085e-01,  7.1555e-02, -1.1057e-01, -8.5161e-03,\n",
       "           9.3790e-02,  3.2334e-02, -5.6189e-02, -8.8419e-02, -2.5249e-01,\n",
       "          -1.9579e-01,  2.7077e-01, -7.6287e-02,  1.4207e-01,  5.5201e-02,\n",
       "           1.1956e-01,  7.5314e-02,  2.8152e-02,  7.7531e-02,  1.0814e-01,\n",
       "           5.3037e-02,  1.2222e-01,  8.0949e-02,  8.2167e-03,  2.3097e-01,\n",
       "           9.3258e-02,  3.7022e-02, -1.7881e-03,  1.0282e-01, -3.5959e-02,\n",
       "          -3.8733e-02,  6.8482e-02, -9.0935e-03,  1.5272e-01,  4.3191e-02,\n",
       "          -1.9757e-01,  3.9878e-02,  6.8870e-02,  9.0875e-02,  2.5820e-01,\n",
       "          -1.3877e-01, -4.3345e-02, -6.5108e-02,  9.8233e-02,  7.9184e-02,\n",
       "           6.5674e-02,  2.2126e-01,  2.2600e-01,  7.2424e-02,  7.7656e-02,\n",
       "           2.6226e-01,  3.7125e-02,  1.1481e-01,  1.1287e-01,  1.1434e-01,\n",
       "           1.4909e-01,  1.6790e-01,  1.2472e-01, -9.2315e-02, -5.1880e-03,\n",
       "           1.5623e-01,  7.3856e-02, -1.3363e-02,  1.3513e-01,  3.0275e-01,\n",
       "          -2.5933e-02,  2.4164e-01,  3.0192e-02,  1.3808e-01, -3.8670e-02],\n",
       "         [-1.1103e-01,  1.6906e-01, -2.2704e-02, -7.3716e-02, -1.3091e-01,\n",
       "           6.9205e-02, -3.8379e-02, -9.3901e-02, -1.4915e-02, -2.4377e-01,\n",
       "          -1.5647e-01, -7.5946e-02,  8.9377e-02,  1.5346e-01, -1.0150e-01,\n",
       "          -2.2562e-02, -1.1104e-01, -5.4240e-03,  6.3031e-02,  4.2962e-02,\n",
       "          -3.6563e-02, -1.3628e-01, -6.9949e-02, -8.5330e-02, -1.2468e-01,\n",
       "          -2.4557e-01, -1.3874e-01,  5.9680e-02, -1.2771e-01, -2.0504e-01,\n",
       "          -5.6359e-02, -1.2107e-01, -4.9367e-02, -1.2023e-01, -1.5443e-02,\n",
       "          -1.1891e-01, -1.0234e-01, -1.8742e-01, -1.6002e-01, -2.6836e-01,\n",
       "          -1.6434e-01, -1.9755e-01, -2.0439e-01, -8.1239e-02, -3.3028e-02,\n",
       "          -1.7030e-01, -1.6217e-01,  4.0828e-02, -1.2154e-01, -2.2653e-01,\n",
       "          -1.8046e-01, -1.3398e-01,  6.2899e-02,  4.7570e-02, -1.2897e-01,\n",
       "          -1.6790e-01, -2.4211e-01,  5.6132e-02, -1.0712e-01,  1.6612e-01,\n",
       "          -1.7852e-01, -8.1614e-02, -5.3020e-02, -4.6672e-02, -7.3243e-02,\n",
       "           2.0307e-02, -9.1815e-02, -3.6103e-03, -1.0686e-01, -1.7033e-02,\n",
       "           7.0324e-02, -1.2808e-01, -7.7420e-02, -1.8674e-01, -8.0645e-02,\n",
       "          -1.6848e-01,  1.7377e-01, -2.3932e-01, -7.4030e-02,  3.1278e-02,\n",
       "          -1.6118e-01, -5.8655e-02, -1.3313e-01, -2.5573e-01, -5.9989e-02,\n",
       "           6.4545e-02, -2.4549e-02, -2.0001e-02, -3.3178e-02, -7.6070e-02,\n",
       "          -1.3354e-01, -2.6957e-02, -1.7579e-02, -3.5359e-02, -1.2889e-01],\n",
       "         [ 1.3786e-02,  9.1486e-02,  1.0159e-01,  2.0976e-01,  1.0372e-01,\n",
       "          -1.1880e-01, -7.0008e-03,  1.4019e-01,  1.5796e-01, -7.6917e-02,\n",
       "           6.1114e-02, -6.7556e-04,  2.6509e-02,  1.5180e-01,  3.9886e-01,\n",
       "          -2.7911e-02,  3.0601e-02, -1.8111e-02,  2.5035e-02, -7.5111e-03,\n",
       "           5.4901e-02, -2.9546e-02,  1.8113e-01,  2.7939e-01,  1.3054e-01,\n",
       "           1.1328e-01,  1.1380e-01,  1.6254e-01,  1.9589e-01,  1.5820e-01,\n",
       "           1.0617e-01,  1.8783e-01,  2.3642e-01,  4.1861e-03,  1.7502e-01,\n",
       "          -2.9764e-02,  7.8982e-02, -2.3429e-02,  1.2826e-01,  6.9516e-02,\n",
       "           5.3258e-02,  4.9956e-02, -3.9702e-02,  2.2356e-01,  4.1051e-02,\n",
       "           8.1865e-03,  1.5349e-01,  1.0281e-01,  1.1087e-01,  1.1792e-02,\n",
       "           1.7624e-01,  1.3708e-01,  5.2258e-02,  8.9467e-02, -1.8904e-02,\n",
       "          -4.7630e-02,  3.0678e-01,  1.0179e-01, -7.9368e-02,  1.1742e-02,\n",
       "          -6.7396e-02,  1.0410e-01,  3.8054e-01,  7.6287e-02,  3.4743e-02,\n",
       "          -5.6159e-02,  4.7479e-02,  1.3836e-01, -1.7250e-02,  2.0429e-01,\n",
       "           1.5660e-01,  1.3402e-01,  1.0176e-01, -9.3768e-02,  1.7959e-02,\n",
       "           5.5521e-02,  2.8266e-02,  2.0837e-01, -3.2272e-02,  1.5435e-01,\n",
       "           1.7920e-01,  8.6035e-03,  1.0090e-01,  1.1456e-01,  1.8727e-01,\n",
       "           1.6390e-01,  1.0504e-01,  9.8847e-02,  4.5220e-02,  1.4687e-01,\n",
       "           7.3926e-02,  1.0021e-01,  1.1806e-01,  2.3339e-02,  1.9637e-01]],\n",
       "        device='cuda:0', requires_grad=True),\n",
       " Parameter containing:\n",
       " tensor([ 0.1805,  0.0793,  0.2898,  0.1755,  0.1305,  0.1427, -0.0937,  0.1574,\n",
       "          0.0225,  0.1771], device='cuda:0', requires_grad=True),\n",
       " Parameter containing:\n",
       " tensor([[ 4.0123e-02, -1.4144e-01,  3.8265e-01,  2.2824e-01,  3.0220e-01,\n",
       "           3.0169e-01, -4.6438e-01,  5.0163e-01, -2.8400e-01,  2.2404e-01],\n",
       "         [ 1.5466e-01, -1.8801e-01,  2.5331e-01,  1.3666e-01,  3.4261e-01,\n",
       "           3.7399e-01, -1.8614e-01,  5.1689e-01, -1.8153e-01,  8.6995e-02],\n",
       "         [ 2.7950e-01, -2.1170e-01,  2.6833e-01,  3.7181e-01,  7.9060e-01,\n",
       "           1.7256e-01, -4.1585e-01,  3.5280e-01, -2.6321e-01,  2.9166e-01],\n",
       "         [ 8.7836e-02, -2.3468e-01,  1.5415e-01,  2.4824e-01,  2.9768e-01,\n",
       "           1.2066e-01, -3.6625e-01,  4.1435e-01, -3.6176e-02,  1.8622e-01],\n",
       "         [ 1.6985e-01,  2.7736e-01,  2.4238e-01,  1.6028e-01,  1.7678e-01,\n",
       "           1.7375e-01, -1.0056e-01,  1.5140e-01, -3.5043e-02, -7.3687e-02],\n",
       "         [-5.7804e-02, -2.6971e-01,  3.2358e-01,  1.0655e-01,  3.9243e-01,\n",
       "           3.0018e-01, -2.9913e-01,  2.9862e-01, -1.9778e-01,  1.6690e-01],\n",
       "         [ 1.9279e-02,  7.6641e-02, -1.0274e-01, -8.3517e-02,  8.3502e-02,\n",
       "          -2.8278e-01,  1.8529e-02, -7.9498e-02, -1.9061e-01,  6.0968e-02],\n",
       "         [ 3.6603e-03, -6.8456e-03,  4.4863e-02,  2.0322e-02, -2.5576e-02,\n",
       "          -8.0747e-02, -1.1139e-02, -5.8548e-02,  3.9227e-02, -4.3429e-02],\n",
       "         [ 5.5546e-02,  5.6017e-03,  1.0508e-01,  3.9489e-02, -2.4171e-03,\n",
       "          -1.9962e-02, -4.6378e-02,  9.4094e-03,  1.6181e-02, -1.0553e-02],\n",
       "         [-2.1263e-02, -9.8487e-02,  2.6402e-03, -5.7526e-02,  1.6114e-01,\n",
       "           5.2928e-02, -8.5760e-02,  9.2156e-02,  6.0482e-02,  1.8826e-01],\n",
       "         [ 3.2610e-01, -2.3549e-01,  1.4929e-01,  2.3395e-02,  4.4136e-01,\n",
       "           1.3819e-01, -3.7443e-01,  3.2744e-01, -2.4855e-01,  4.0522e-02],\n",
       "         [-1.0090e-01,  1.0457e-01, -1.4157e-01, -1.7234e-01, -3.3458e-01,\n",
       "          -2.7126e-01,  2.5498e-01, -2.6139e-01,  9.6501e-02, -1.8250e-01],\n",
       "         [-2.9845e-02, -2.6142e-01,  2.6284e-01,  1.0426e-02, -6.9090e-02,\n",
       "           2.5700e-01, -2.5510e-01, -4.9022e-02,  1.7694e-01, -6.2978e-02],\n",
       "         [-1.0867e-01,  6.9654e-02, -1.4537e-01,  9.0753e-03, -1.8556e-01,\n",
       "          -6.6859e-02,  1.8423e-01, -3.0584e-01,  1.4228e-01, -3.0782e-01],\n",
       "         [ 1.5119e-01, -2.9252e-01,  1.3775e-01,  1.4939e-01,  4.9732e-01,\n",
       "           1.6841e-01, -3.9672e-01,  4.1949e-01, -2.1508e-01,  1.9542e-01],\n",
       "         [ 9.9166e-02, -1.4538e-01,  2.2007e-01,  4.5080e-02,  3.1395e-01,\n",
       "           2.6520e-01, -3.6837e-01,  1.7604e-01, -1.0750e-01,  1.0459e-01],\n",
       "         [-3.1231e-01,  1.9861e-01, -1.7922e-01, -1.0543e-01, -2.5603e-01,\n",
       "          -1.4327e-01,  3.2423e-01, -2.2031e-01,  3.0344e-02, -1.4945e-01],\n",
       "         [-8.0054e-02, -2.9344e-02, -1.6290e-01, -1.2224e-01, -1.4034e-01,\n",
       "          -3.7537e-01,  2.1945e-01, -2.9703e-01,  1.2138e-01, -2.2821e-01],\n",
       "         [ 1.3302e-02, -1.5982e-01,  1.2445e-01, -5.8765e-02,  1.2993e-01,\n",
       "          -1.1746e-02, -2.0927e-02, -1.0323e-01, -2.6995e-02, -7.0808e-02],\n",
       "         [-4.2684e-03,  1.8770e-01, -4.3851e-02, -5.8212e-02,  5.9455e-02,\n",
       "           7.9964e-02,  1.2699e-01, -4.7534e-02,  1.1280e-01,  6.1965e-02],\n",
       "         [-1.9305e-01,  2.0951e-01, -1.0673e-01, -1.1049e-01, -3.9972e-01,\n",
       "          -2.2691e-01,  4.7234e-01, -3.5256e-01,  1.4895e-01, -3.1685e-01],\n",
       "         [-1.3722e-01,  1.8331e-01, -1.3660e-01, -9.9485e-02, -1.6139e-01,\n",
       "          -7.8673e-04,  1.8734e-01, -1.4386e-01,  6.5289e-02, -6.8769e-02],\n",
       "         [-2.8016e-01, -1.1294e-01,  1.0560e-01, -7.7743e-02, -6.2975e-03,\n",
       "           2.4935e-01,  4.3292e-02,  1.8747e-01, -4.3747e-02, -1.0030e-02],\n",
       "         [ 3.0820e-01, -1.7369e-01,  6.5077e-02,  1.0301e-01,  3.5154e-01,\n",
       "          -1.5695e-02, -2.7644e-01,  7.5565e-02,  1.4491e-02,  1.8868e-03],\n",
       "         [-2.5044e-03, -2.1499e-02, -1.0048e-01,  1.6753e-01,  2.0423e-01,\n",
       "           5.7181e-02, -3.6652e-01,  2.0751e-01, -2.9855e-01,  1.9059e-01],\n",
       "         [ 2.8843e-02,  1.4108e-01,  9.8144e-02, -1.8775e-01,  1.5600e-02,\n",
       "           8.7263e-02, -1.9579e-01,  1.4193e-01, -1.9419e-01,  2.5020e-01],\n",
       "         [-2.0887e-02, -2.2759e-01,  1.8087e-02, -1.6648e-02, -7.1612e-02,\n",
       "          -1.1150e-01, -5.3806e-02,  6.9255e-02,  9.2700e-02, -2.4464e-02],\n",
       "         [ 1.4405e-01, -7.3686e-02,  2.6572e-02,  6.2888e-02,  2.2002e-01,\n",
       "           1.5463e-01, -4.7112e-01,  2.6437e-01, -9.9117e-02,  1.2761e-01],\n",
       "         [-1.3583e-01,  1.7737e-01, -1.4352e-01, -1.9490e-01, -1.7497e-01,\n",
       "           9.7612e-02,  3.9667e-01, -1.8680e-01,  2.0856e-01, -2.0179e-01],\n",
       "         [ 8.6330e-03, -4.1203e-02, -1.4446e-02, -8.6488e-03,  7.0826e-02,\n",
       "          -3.7020e-02,  5.2792e-02,  7.4568e-04,  4.6155e-02,  2.2344e-02],\n",
       "         [ 2.8153e-01, -2.1906e-01,  4.0481e-01,  1.9255e-01,  5.9930e-01,\n",
       "           1.7823e-01, -5.1067e-01,  3.1396e-01, -2.8094e-01,  3.0524e-01],\n",
       "         [ 6.4928e-02, -3.7994e-01,  1.1522e-01, -1.2859e-01,  2.0018e-01,\n",
       "           9.5129e-02, -1.5632e-01,  2.5400e-01, -7.3362e-02, -2.0842e-03],\n",
       "         [ 1.6569e-01, -1.8383e-01,  9.8561e-02,  1.7583e-01,  2.6499e-02,\n",
       "          -1.7665e-01, -2.5378e-01,  2.5965e-01, -8.3419e-02,  1.4093e-01],\n",
       "         [-1.1313e-01,  2.3427e-01, -3.1677e-02, -8.9087e-03, -3.0561e-01,\n",
       "          -9.3436e-02,  2.2230e-01,  1.5506e-02,  8.9585e-02, -1.5827e-03],\n",
       "         [-6.2679e-02,  1.2080e-01, -1.5285e-01, -6.9674e-02, -1.8215e-01,\n",
       "          -1.6126e-01,  1.1687e-01, -7.5531e-02, -7.7245e-02, -2.1104e-01],\n",
       "         [ 4.0103e-02, -4.4201e-02, -5.6487e-03,  1.1765e-01,  7.9857e-02,\n",
       "           6.4293e-02, -5.6992e-02,  1.7182e-01,  1.2531e-03, -6.3983e-02],\n",
       "         [-3.4866e-01,  4.7274e-01, -4.0057e-01, -3.1546e-01, -8.2405e-01,\n",
       "          -3.1066e-01,  5.7908e-01, -7.2849e-01,  3.6441e-01, -4.8504e-01],\n",
       "         [-1.1577e-01,  1.6013e-01, -1.5389e-01, -9.9369e-02, -3.7169e-01,\n",
       "          -2.2872e-01,  4.1048e-01, -2.4650e-01,  1.9399e-01, -2.8947e-01],\n",
       "         [-7.9697e-02,  4.6860e-02, -1.0991e-01, -6.5583e-02, -1.1234e-01,\n",
       "           1.8081e-02, -1.4351e-01, -5.6837e-02, -1.0507e-01, -1.6959e-01],\n",
       "         [ 4.7574e-02,  2.0454e-02,  1.0476e-01, -5.0256e-02,  2.5816e-01,\n",
       "           1.0186e-01,  4.3577e-02,  6.5254e-02,  4.4097e-02,  1.7620e-01],\n",
       "         [-8.8061e-02, -7.9086e-02,  3.5697e-02, -5.1131e-02,  4.2678e-02,\n",
       "          -6.6617e-02, -7.6156e-02,  6.7265e-02, -2.4014e-01, -5.4421e-02],\n",
       "         [-3.2616e-02,  2.6268e-01, -9.2821e-02, -1.7903e-01, -3.2228e-01,\n",
       "          -3.1307e-01,  3.0573e-01, -2.8161e-01, -4.4210e-02, -2.0756e-01],\n",
       "         [-8.7252e-02,  3.5003e-01, -3.1704e-01, -2.5267e-01, -5.7612e-01,\n",
       "          -2.5321e-01,  2.6037e-01, -1.6274e-01,  3.2690e-02, -2.4915e-01],\n",
       "         [-1.3102e-01, -9.8535e-02, -1.6188e-01, -1.2295e-01, -1.1738e-01,\n",
       "          -2.6203e-01,  4.4147e-02, -5.9966e-02,  2.7459e-02, -2.9309e-02],\n",
       "         [-9.9680e-02,  1.6831e-01, -3.1644e-01, -5.0373e-02, -2.2046e-01,\n",
       "          -2.6371e-01,  2.9005e-01, -2.4152e-01,  2.7872e-01, -1.7670e-01],\n",
       "         [-2.7138e-01,  2.6246e-01, -3.6697e-01, -2.4025e-01, -6.0305e-01,\n",
       "          -3.1838e-01,  5.1820e-01, -4.6995e-01,  3.3750e-01, -3.5570e-01],\n",
       "         [-2.9303e-01,  1.9379e-01, -2.9323e-01, -1.7748e-01, -4.0491e-01,\n",
       "          -1.5792e-01,  4.5136e-01, -3.7909e-01,  2.7084e-01, -2.7385e-01],\n",
       "         [-2.2724e-02,  2.3732e-01, -1.8328e-01, -7.7547e-02, -2.3987e-01,\n",
       "           6.8960e-02, -3.1184e-02, -9.1635e-02,  2.1237e-01, -1.3799e-02],\n",
       "         [-3.1074e-02, -2.0918e-02,  1.5666e-01,  7.3391e-02,  3.5099e-02,\n",
       "           1.3004e-02,  1.3253e-01,  2.6239e-02, -1.1032e-03, -6.8334e-02],\n",
       "         [-1.3482e-01,  2.4898e-01, -2.0216e-01, -2.5803e-01, -3.3836e-01,\n",
       "          -5.7984e-02,  4.8963e-01, -3.9695e-01,  2.6910e-01, -2.9854e-01],\n",
       "         [-6.7238e-03, -1.3535e-01, -8.3992e-02, -9.0504e-02, -1.1463e-01,\n",
       "          -1.5600e-01, -9.4096e-02,  9.3116e-04,  1.2300e-01, -1.6061e-02],\n",
       "         [ 1.3889e-01,  2.4008e-02, -1.2195e-02,  1.5582e-01,  2.2675e-01,\n",
       "          -1.3660e-02, -2.3499e-01,  1.1267e-01, -6.6975e-02,  1.7537e-01],\n",
       "         [-1.8387e-01,  3.1971e-01, -3.2719e-01, -1.3162e-01, -3.7794e-01,\n",
       "          -1.3868e-01,  4.6651e-01, -3.6931e-01,  2.1375e-01, -3.1320e-01],\n",
       "         [ 8.7705e-02,  1.2171e-01, -3.2982e-02, -6.6345e-02, -1.2331e-01,\n",
       "           2.4869e-02,  3.7963e-02, -6.8104e-02,  1.6912e-01,  3.2667e-02],\n",
       "         [ 4.9208e-02, -7.7510e-03, -1.5809e-01,  1.2271e-01,  4.9615e-02,\n",
       "          -3.9257e-02,  2.4376e-02,  1.1162e-01,  2.9829e-02, -1.6277e-01],\n",
       "         [ 5.5084e-02, -5.5098e-02,  7.6340e-02, -2.2348e-02, -5.9295e-02,\n",
       "           2.7477e-02,  6.0991e-02,  6.1077e-03,  7.7509e-02, -4.2787e-02],\n",
       "         [-2.8853e-02, -1.0360e-01,  1.1424e-01,  2.0117e-02,  6.0888e-02,\n",
       "          -8.4610e-02,  6.5538e-03, -1.3408e-01, -4.3881e-02, -1.6834e-02],\n",
       "         [-1.1448e-03, -1.6012e-01,  2.0162e-01, -8.1335e-02, -6.2881e-02,\n",
       "           1.7474e-01, -6.9752e-02,  1.0396e-01, -3.1811e-02, -8.5073e-02],\n",
       "         [-7.5087e-02,  9.8020e-02, -7.9915e-02, -3.6868e-02, -2.6430e-01,\n",
       "          -1.0458e-01,  2.7954e-01, -1.8646e-02,  2.5783e-01, -1.2563e-01],\n",
       "         [ 6.9573e-02,  4.2659e-01, -2.3327e-01, -9.7359e-02, -2.7494e-01,\n",
       "          -1.3480e-01,  1.8370e-01, -2.7979e-01,  1.3904e-01, -1.0599e-01],\n",
       "         [ 7.8692e-02, -2.2236e-01,  2.2518e-02,  6.8754e-02,  2.9534e-01,\n",
       "          -8.5331e-02, -6.7295e-02,  1.5083e-01, -4.7907e-02,  1.8788e-01],\n",
       "         [-4.7885e-01,  5.2599e-01, -4.7028e-01, -2.7851e-01, -7.8130e-01,\n",
       "          -2.9042e-01,  6.6378e-01, -5.2548e-01,  3.5821e-01, -3.2036e-01],\n",
       "         [-4.0250e-02, -3.7170e-03,  2.5915e-03, -1.7443e-02,  1.1614e-02,\n",
       "           3.3228e-02,  9.9398e-02, -2.0013e-02,  7.9083e-02, -1.5469e-02],\n",
       "         [-3.1072e-01,  1.5955e-01, -1.8225e-01, -3.8828e-02, -3.5591e-01,\n",
       "          -2.3509e-01,  4.8864e-01, -2.0764e-01,  3.6034e-02, -3.2449e-01],\n",
       "         [-2.2796e-01,  1.8142e-01, -2.7054e-01, -3.0017e-01, -5.0331e-01,\n",
       "          -2.8161e-01,  1.7254e-01, -5.0280e-01,  1.5403e-01, -2.5158e-01],\n",
       "         [-3.4088e-02, -2.0174e-01,  1.1378e-02,  2.2894e-01,  2.3010e-01,\n",
       "           5.0799e-02, -4.0206e-01,  3.5829e-01, -1.4084e-01,  1.0920e-01],\n",
       "         [ 6.2379e-02, -1.7624e-01,  1.0819e-01,  1.3233e-01,  4.6020e-01,\n",
       "           1.9493e-01, -3.0783e-01,  3.8810e-01, -2.1544e-01,  1.1951e-01],\n",
       "         [ 2.3043e-02, -3.7922e-02,  8.1184e-02,  3.4887e-01,  2.6321e-01,\n",
       "          -1.4367e-01, -2.2146e-01,  2.6540e-01, -1.9507e-01,  1.4390e-01],\n",
       "         [ 7.1171e-02, -2.0074e-01,  2.2235e-01,  8.4016e-02,  5.6626e-03,\n",
       "           7.1948e-02, -1.0617e-01,  2.0556e-01,  1.2747e-01,  5.1413e-02],\n",
       "         [ 2.2583e-01, -1.6291e-02,  2.1727e-01, -2.9302e-02,  2.5738e-01,\n",
       "           1.4702e-01, -4.7735e-01,  2.1565e-01, -2.4715e-01,  2.7017e-01],\n",
       "         [-9.6560e-02,  9.1487e-02, -2.2805e-01, -1.8286e-01, -3.2003e-01,\n",
       "          -1.6855e-01,  2.4346e-03, -2.7686e-01,  1.5317e-01, -9.6543e-02],\n",
       "         [-2.8541e-02, -8.2250e-04,  9.5451e-03, -6.0841e-02, -1.6070e-01,\n",
       "           1.2099e-01, -9.8015e-02,  1.0653e-01,  7.6523e-02, -6.0488e-03],\n",
       "         [-1.6718e-02, -1.4703e-01,  2.4131e-01,  2.8923e-01,  3.2242e-01,\n",
       "           1.4590e-01, -3.4231e-01,  2.9208e-01, -1.5274e-01,  2.0502e-01],\n",
       "         [ 4.5377e-02, -1.8043e-01, -1.1208e-02, -2.3534e-02,  1.8963e-01,\n",
       "          -2.1672e-02, -3.0831e-01, -1.4536e-02, -9.2815e-02,  7.1558e-02],\n",
       "         [ 7.8404e-02,  1.6358e-02,  1.9692e-01, -6.3771e-02,  1.6082e-01,\n",
       "           6.5097e-02, -1.1692e-01,  1.2933e-01, -1.6438e-01,  1.8007e-01],\n",
       "         [ 3.3557e-01, -2.5344e-01,  5.1485e-01, -2.0295e-02,  3.7739e-01,\n",
       "           2.8615e-01, -4.3481e-01,  3.5441e-01, -2.3555e-01,  2.7412e-01],\n",
       "         [ 2.9602e-01, -1.1012e-01,  3.5340e-01,  4.1493e-02,  3.5803e-01,\n",
       "           6.0898e-02, -1.1591e-01,  2.5566e-01, -1.8336e-01,  2.0358e-01],\n",
       "         [ 2.5820e-02, -1.7808e-01, -1.4143e-02,  1.2162e-02,  1.9355e-01,\n",
       "          -1.3296e-02, -2.4202e-01,  2.0950e-01, -6.1385e-02,  7.8693e-02],\n",
       "         [ 5.3923e-03, -7.1769e-02,  7.3667e-02,  1.7889e-01,  2.7433e-01,\n",
       "           3.9705e-02, -2.8146e-01,  1.8894e-01, -1.5553e-01,  1.3662e-01],\n",
       "         [ 4.0489e-02, -8.3100e-02,  1.0127e-01, -5.2374e-02,  1.4710e-01,\n",
       "           1.7474e-01, -1.4544e-01, -1.2958e-02, -3.0813e-02, -3.3596e-02],\n",
       "         [ 1.1518e-01,  5.4399e-03,  2.3058e-01,  1.3356e-01,  2.4378e-01,\n",
       "           3.3805e-02, -1.6188e-01,  1.6815e-01, -3.4032e-02,  2.6608e-01],\n",
       "         [ 4.4903e-02,  1.6844e-02,  2.4642e-01,  2.8155e-01,  1.5235e-01,\n",
       "           1.7618e-01, -7.8953e-02,  6.6682e-02,  1.7450e-01,  2.3803e-02],\n",
       "         [ 1.7757e-01, -1.5733e-01,  5.6180e-02,  2.9382e-01,  4.3872e-01,\n",
       "          -3.7794e-02, -1.4828e-01,  1.3610e-01,  9.0495e-02, -8.6641e-03],\n",
       "         [ 7.8212e-02, -1.9305e-01,  4.7438e-03,  1.5871e-01,  3.4191e-01,\n",
       "           8.1032e-02, -2.3962e-01,  1.9861e-01, -7.1382e-02,  1.1755e-02],\n",
       "         [ 1.1036e-01, -2.2747e-01,  2.6921e-01,  8.2861e-02,  2.2034e-01,\n",
       "           1.5224e-01, -1.7860e-01,  3.2401e-01, -1.4805e-01,  1.7497e-02],\n",
       "         [-7.4742e-04, -1.2022e-01,  2.0503e-01, -1.1831e-01,  1.5296e-01,\n",
       "           2.0722e-01, -5.0295e-02,  8.2016e-02, -1.7120e-01,  2.6864e-02],\n",
       "         [ 3.2864e-01, -1.2248e-01,  4.3233e-01, -8.5590e-02,  4.3704e-01,\n",
       "           2.7616e-01, -1.4741e-01,  4.1187e-01, -2.0491e-01,  3.5230e-01],\n",
       "         [ 3.3635e-02,  3.8671e-02,  1.8844e-01,  5.4603e-02, -5.7874e-02,\n",
       "           2.4175e-02,  8.8698e-02,  1.5409e-01,  1.1343e-01,  7.8233e-02],\n",
       "         [-1.8700e-02, -8.8328e-02, -6.0642e-02, -1.1027e-01, -3.2152e-02,\n",
       "          -1.8098e-01, -9.6633e-02, -2.1566e-01,  1.8131e-01,  1.3515e-01],\n",
       "         [ 1.4694e-01, -1.5530e-01,  2.4664e-01,  1.0684e-01,  2.4446e-01,\n",
       "           2.6485e-02, -1.5270e-01,  1.5161e-01, -1.9443e-02,  9.1055e-02],\n",
       "         [ 1.3828e-01, -1.7831e-01,  8.3737e-02, -1.3357e-01,  1.6678e-01,\n",
       "           5.6091e-02, -1.7940e-01,  3.1099e-01, -1.0732e-01,  1.3912e-01],\n",
       "         [-5.9891e-02, -8.8890e-02,  1.4326e-01, -2.9922e-02,  1.3873e-03,\n",
       "           1.2806e-01, -2.8455e-02, -6.8480e-02,  1.2852e-01,  8.0131e-02],\n",
       "         [-1.6181e-01, -5.2381e-02, -5.6791e-02,  1.6921e-02,  4.9457e-03,\n",
       "           5.4045e-02, -4.9895e-03,  1.1640e-01,  3.2631e-02,  5.4390e-03],\n",
       "         [ 9.9498e-02, -2.9318e-01,  3.8279e-01, -3.8141e-03,  1.4692e-01,\n",
       "           1.1111e-01, -1.9216e-01,  4.9831e-02, -2.1323e-02,  1.5944e-02],\n",
       "         [-1.2964e-01, -1.4321e-01, -2.0630e-01, -8.5604e-02, -1.0874e-01,\n",
       "          -1.6680e-01, -1.7721e-01, -4.7699e-02,  2.4872e-01,  1.4632e-01]],\n",
       "        device='cuda:0', requires_grad=True),\n",
       " Parameter containing:\n",
       " tensor([ 0.3503,  0.2012,  0.2906,  0.2880,  0.0609,  0.2926,  0.0623,  0.1091,\n",
       "          0.1086,  0.1782,  0.2746, -0.0506,  0.1374, -0.1075,  0.3135,  0.2806,\n",
       "         -0.0720, -0.0176,  0.1067,  0.0769, -0.1466, -0.0627,  0.1739,  0.2214,\n",
       "          0.1653,  0.1998,  0.0891,  0.2883, -0.0635,  0.0120,  0.3644,  0.2253,\n",
       "          0.1473,  0.0088,  0.0450,  0.0918, -0.3040, -0.0772,  0.0976,  0.1866,\n",
       "          0.1445, -0.0593, -0.0829, -0.0126, -0.0403, -0.1757, -0.1263,  0.0230,\n",
       "          0.0628, -0.1525,  0.1704,  0.1572, -0.1625, -0.0087,  0.0733,  0.0071,\n",
       "          0.0368,  0.1041, -0.0284, -0.0776,  0.1303, -0.2444, -0.0004, -0.1038,\n",
       "         -0.1577,  0.3114,  0.3463,  0.1994,  0.1666,  0.2844, -0.0281,  0.0796,\n",
       "          0.2766,  0.1531,  0.1799,  0.3237,  0.1972,  0.2569,  0.2205,  0.1049,\n",
       "          0.2184,  0.1937,  0.2474,  0.1695,  0.2251,  0.0939,  0.2354,  0.1719,\n",
       "          0.0278,  0.2317,  0.2241,  0.0111,  0.1396,  0.2122,  0.1529],\n",
       "        device='cuda:0', requires_grad=True)]"
      ]
     },
     "execution_count": 19,
     "metadata": {},
     "output_type": "execute_result"
    }
   ],
   "source": [
    "list(func.parameters())"
   ]
  },
  {
   "cell_type": "code",
   "execution_count": null,
   "metadata": {},
   "outputs": [],
   "source": []
  }
 ],
 "metadata": {
  "kernelspec": {
   "display_name": "Python 3",
   "language": "python",
   "name": "python3"
  },
  "language_info": {
   "codemirror_mode": {
    "name": "ipython",
    "version": 3
   },
   "file_extension": ".py",
   "mimetype": "text/x-python",
   "name": "python",
   "nbconvert_exporter": "python",
   "pygments_lexer": "ipython3",
   "version": "3.8.5"
  }
 },
 "nbformat": 4,
 "nbformat_minor": 4
}
